{
 "cells": [
  {
   "cell_type": "code",
   "execution_count": 8,
   "metadata": {},
   "outputs": [
    {
     "name": "stdout",
     "output_type": "stream",
     "text": [
      "3\n",
      "100 120\n",
      "12000\n",
      "10 20\n",
      "200\n",
      "1200 20\n",
      "21600.0\n"
     ]
    }
   ],
   "source": [
    "for i in range(int(input())): \n",
    "    q,p = map(int, input().split())\n",
    "    if (q>1000):\n",
    "        print((q*p)-(q*p)*(0.1))\n",
    "    else:\n",
    "        print(q*p)\n",
    "\n"
   ]
  },
  {
   "cell_type": "markdown",
   "metadata": {},
   "source": [
    "\n"
   ]
  }
 ],
 "metadata": {
  "kernelspec": {
   "display_name": "Python 3",
   "language": "python",
   "name": "python3"
  },
  "language_info": {
   "codemirror_mode": {
    "name": "ipython",
    "version": 3
   },
   "file_extension": ".py",
   "mimetype": "text/x-python",
   "name": "python",
   "nbconvert_exporter": "python",
   "pygments_lexer": "ipython3",
   "version": "3.7.1"
  }
 },
 "nbformat": 4,
 "nbformat_minor": 2
}
